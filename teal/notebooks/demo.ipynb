{
 "cells": [
  {
   "cell_type": "code",
   "execution_count": 1,
   "metadata": {},
   "outputs": [],
   "source": [
    "import teal"
   ]
  },
  {
   "cell_type": "code",
   "execution_count": 2,
   "metadata": {},
   "outputs": [
    {
     "name": "stdout",
     "output_type": "stream",
     "text": [
      "<teal.NetCDF>\n",
      "Dimensions:    (time: 25, lat: 96, lon: 144, nbnd: 2)\n",
      "Coordinates:\n",
      "  * lat        (lat) float64 -90.0 -88.11 -86.21 -84.32 ... 86.21 88.11 90.0\n",
      "  * lon        (lon) float64 0.0 2.5 5.0 7.5 10.0 ... 350.0 352.5 355.0 357.5\n",
      "  * time       (time) object 2007-01-15 12:00:00 ... 2009-01-15 12:00:00\n",
      "Dimensions without coordinates: nbnd\n",
      "Data variables:\n",
      "    tas        (time, lat, lon) float32 ...\n",
      "    time_bnds  (time, nbnd) object ...\n",
      "    lat_bnds   (lat, nbnd) float64 ...\n",
      "    lon_bnds   (lon, nbnd) float64 ...\n",
      "Attributes: (12/45)\n",
      "    Conventions:            CF-1.7 CMIP-6.2\n",
      "    activity_id:            CMIP\n",
      "    branch_method:          standard\n",
      "    branch_time_in_child:   674885.0\n",
      "    branch_time_in_parent:  10950.0\n",
      "    case_id:                1562\n",
      "    ...                     ...\n",
      "    sub_experiment_id:      none\n",
      "    table_id:               Amon\n",
      "    tracking_id:            hdl:21.14100/2ebbfd9d-97bf-4858-b893-80d31ffe8cc7\n",
      "    variable_id:            tas\n",
      "    variant_info:           CMIP6 CESM2 historical ensemble with WACCM6-FV2 (...\n",
      "    variant_label:          r1i1p1f1\n"
     ]
    }
   ],
   "source": [
    "data = teal.open(\"test.nc\")\n",
    "print(data)"
   ]
  },
  {
   "cell_type": "code",
   "execution_count": 3,
   "metadata": {},
   "outputs": [
    {
     "name": "stdout",
     "output_type": "stream",
     "text": [
      "<xarray.Dataset>\n",
      "Dimensions:    (time: 25, lat: 96, lon: 144, nbnd: 2)\n",
      "Coordinates:\n",
      "  * lat        (lat) float64 -90.0 -88.11 -86.21 -84.32 ... 86.21 88.11 90.0\n",
      "  * lon        (lon) float64 0.0 2.5 5.0 7.5 10.0 ... 350.0 352.5 355.0 357.5\n",
      "  * time       (time) object 2007-01-15 12:00:00 ... 2009-01-15 12:00:00\n",
      "Dimensions without coordinates: nbnd\n",
      "Data variables:\n",
      "    tas        (time, lat, lon) float32 ...\n",
      "    time_bnds  (time, nbnd) object ...\n",
      "    lat_bnds   (lat, nbnd) float64 ...\n",
      "    lon_bnds   (lon, nbnd) float64 ...\n",
      "Attributes: (12/45)\n",
      "    Conventions:            CF-1.7 CMIP-6.2\n",
      "    activity_id:            CMIP\n",
      "    branch_method:          standard\n",
      "    branch_time_in_child:   674885.0\n",
      "    branch_time_in_parent:  10950.0\n",
      "    case_id:                1562\n",
      "    ...                     ...\n",
      "    sub_experiment_id:      none\n",
      "    table_id:               Amon\n",
      "    tracking_id:            hdl:21.14100/2ebbfd9d-97bf-4858-b893-80d31ffe8cc7\n",
      "    variable_id:            tas\n",
      "    variant_info:           CMIP6 CESM2 historical ensemble with WACCM6-FV2 (...\n",
      "    variant_label:          r1i1p1f1\n"
     ]
    }
   ],
   "source": [
    "ds = data.to_xarray()\n",
    "print(ds)"
   ]
  },
  {
   "cell_type": "code",
   "execution_count": 4,
   "metadata": {},
   "outputs": [
    {
     "name": "stdout",
     "output_type": "stream",
     "text": [
      "                                             tas            time_bnds  \\\n",
      "time                lat   lon   nbnd                                    \n",
      "2007-01-15 12:00:00 -90.0 0.0   0     245.106079  2007-01-01 00:00:00   \n",
      "                                1     245.106079  2007-02-01 00:00:00   \n",
      "                          2.5   0     244.979843  2007-01-01 00:00:00   \n",
      "                                1     244.979843  2007-02-01 00:00:00   \n",
      "                          5.0   0     244.956512  2007-01-01 00:00:00   \n",
      "...                                          ...                  ...   \n",
      "2009-01-15 12:00:00  90.0 352.5 1     250.801636  2009-02-01 00:00:00   \n",
      "                          355.0 0     250.782700  2009-01-01 00:00:00   \n",
      "                                1     250.782700  2009-02-01 00:00:00   \n",
      "                          357.5 0     250.761658  2009-01-01 00:00:00   \n",
      "                                1     250.761658  2009-02-01 00:00:00   \n",
      "\n",
      "                                       lat_bnds  lon_bnds  \n",
      "time                lat   lon   nbnd                       \n",
      "2007-01-15 12:00:00 -90.0 0.0   0    -90.947368     -1.25  \n",
      "                                1    -89.052632      1.25  \n",
      "                          2.5   0    -90.947368      1.25  \n",
      "                                1    -89.052632      3.75  \n",
      "                          5.0   0    -90.947368      3.75  \n",
      "...                                         ...       ...  \n",
      "2009-01-15 12:00:00  90.0 352.5 1     90.947368    353.75  \n",
      "                          355.0 0     89.052632    353.75  \n",
      "                                1     90.947368    356.25  \n",
      "                          357.5 0     89.052632    356.25  \n",
      "                                1     90.947368    358.75  \n",
      "\n",
      "[691200 rows x 4 columns]\n"
     ]
    }
   ],
   "source": [
    "df = data.to_pandas()\n",
    "print(df)"
   ]
  },
  {
   "cell_type": "code",
   "execution_count": 5,
   "metadata": {},
   "outputs": [
    {
     "name": "stdout",
     "output_type": "stream",
     "text": [
      "<class 'numpy.ndarray'>\n"
     ]
    }
   ],
   "source": [
    "array = data.to_numpy()\n",
    "print(type(array))  # avoid printing whole array (it's massive!)"
   ]
  },
  {
   "cell_type": "code",
   "execution_count": 6,
   "metadata": {},
   "outputs": [],
   "source": [
    "zarr = data.to_zarr(\"test.zarr\")"
   ]
  },
  {
   "cell_type": "code",
   "execution_count": 7,
   "metadata": {},
   "outputs": [],
   "source": [
    "data.save(\"copy.nc\")"
   ]
  }
 ],
 "metadata": {
  "kernelspec": {
   "display_name": "spice",
   "language": "python",
   "name": "spice"
  },
  "language_info": {
   "codemirror_mode": {
    "name": "ipython",
    "version": 3
   },
   "file_extension": ".py",
   "mimetype": "text/x-python",
   "name": "python",
   "nbconvert_exporter": "python",
   "pygments_lexer": "ipython3",
   "version": "3.7.4"
  }
 },
 "nbformat": 4,
 "nbformat_minor": 2
}
